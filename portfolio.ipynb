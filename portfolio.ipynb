{
 "cells": [
  {
   "cell_type": "markdown",
   "metadata": {},
   "source": [
    "# Portfolio Optimization\n",
    "\n",
    "\n"
   ]
  },
  {
   "cell_type": "code",
   "execution_count": 68,
   "metadata": {},
   "outputs": [],
   "source": [
    "#Import required libraries\n",
    "import yfinance as yf\n",
    "import pandas as pd\n",
    "from datetime import datetime, timedelta\n",
    "import numpy as np\n",
    "from scipy.optimize import minimize "
   ]
  },
  {
   "cell_type": "markdown",
   "metadata": {},
   "source": [
    "# Section 1: Define Tickers and Time Range\n"
   ]
  },
  {
   "cell_type": "code",
   "execution_count": 69,
   "metadata": {},
   "outputs": [],
   "source": [
    "# defind lists of tickets\n",
    "tickers =  ['DBC','BCD', 'FTGC','USCI', 'SDCI', 'UTES', 'PXE', 'IAU', 'GLD', 'COM']  "
   ]
  },
  {
   "cell_type": "code",
   "execution_count": 70,
   "metadata": {},
   "outputs": [],
   "source": [
    "#Set the end data to today\n",
    "end_date = datetime.today()\n"
   ]
  },
  {
   "cell_type": "code",
   "execution_count": 71,
   "metadata": {},
   "outputs": [
    {
     "name": "stdout",
     "output_type": "stream",
     "text": [
      "2020-01-14 15:32:52.365151\n"
     ]
    }
   ],
   "source": [
    "#Set the end date to 5 years ago (the result might change be on the time frame)\n",
    "start_date = end_date - timedelta(days = 5*365)\n",
    "print (start_date)"
   ]
  },
  {
   "cell_type": "markdown",
   "metadata": {},
   "source": [
    "# Section 2: Download Adjusted Close Prices"
   ]
  },
  {
   "cell_type": "code",
   "execution_count": 72,
   "metadata": {},
   "outputs": [],
   "source": [
    "#Create an empty DataFrame to store the adjusted close prices\n",
    "adj_close_df = pd.DataFrame()"
   ]
  },
  {
   "cell_type": "code",
   "execution_count": 73,
   "metadata": {},
   "outputs": [
    {
     "name": "stderr",
     "output_type": "stream",
     "text": [
      "[*********************100%***********************]  1 of 1 completed\n",
      "[*********************100%***********************]  1 of 1 completed\n",
      "[*********************100%***********************]  1 of 1 completed\n",
      "[*********************100%***********************]  1 of 1 completed\n",
      "[*********************100%***********************]  1 of 1 completed\n",
      "[*********************100%***********************]  1 of 1 completed\n",
      "[*********************100%***********************]  1 of 1 completed\n",
      "[*********************100%***********************]  1 of 1 completed\n",
      "[*********************100%***********************]  1 of 1 completed\n",
      "[*********************100%***********************]  1 of 1 completed\n"
     ]
    }
   ],
   "source": [
    "# Dowload the close prices for each ticker\n",
    "adj_close_df = pd.DataFrame()\n",
    "for ticker in tickers:\n",
    "    data = yf.download(ticker, start = start_date,end = end_date)\n",
    "    adj_close_df[ticker] = data['Close']"
   ]
  },
  {
   "cell_type": "markdown",
   "metadata": {},
   "source": [
    " Data Frame"
   ]
  },
  {
   "cell_type": "code",
   "execution_count": 74,
   "metadata": {},
   "outputs": [
    {
     "name": "stdout",
     "output_type": "stream",
     "text": [
      "                  DBC        BCD       FTGC       USCI       SDCI       UTES  \\\n",
      "Date                                                                           \n",
      "2020-01-14  14.228878  19.442595  14.917447  36.279999  10.079644  37.190666   \n",
      "2020-01-15  14.156924  19.385176  14.949134  36.340000  10.089730  37.709587   \n",
      "2020-01-16  14.138935  19.285488  14.838223  36.110001  10.034808  37.913544   \n",
      "2020-01-17  14.183907  19.346098  14.893681  36.340000  10.091413  38.088619   \n",
      "2020-01-21  14.102959  19.215309  14.798613  35.950001   9.998378  38.309719   \n",
      "...               ...        ...        ...        ...        ...        ...   \n",
      "2025-01-03  21.480000  31.250000  23.950001  66.480003  19.600000  66.709999   \n",
      "2025-01-06  21.520000  31.480000  24.049999  66.760002  19.645000  66.470001   \n",
      "2025-01-07  21.620001  31.610001  24.090000  67.129997  19.799999  66.110001   \n",
      "2025-01-08  21.580000  31.629999  24.120001  67.230003  19.799999  66.010002   \n",
      "2025-01-10  22.160000  32.419998  24.719999  68.639999  20.200001  67.309998   \n",
      "\n",
      "                  PXE        IAU         GLD        COM  \n",
      "Date                                                     \n",
      "2020-01-14  13.899429  29.559999  145.690002  18.426357  \n",
      "2020-01-15  13.726445  29.760000  146.539993  18.386065  \n",
      "2020-01-16  13.691847  29.700001  146.309998  18.333374  \n",
      "2020-01-17  13.458317  29.780001  146.580002  18.397688  \n",
      "2020-01-21  12.965307  29.799999  146.740005  18.271385  \n",
      "...               ...        ...         ...        ...  \n",
      "2025-01-03  30.250000  49.790001  243.490005  28.360001  \n",
      "2025-01-06  30.100000  49.740002  243.190002  28.450001  \n",
      "2025-01-07  30.400000  50.009998  244.559998  28.490000  \n",
      "2025-01-08  30.620001  50.290001  245.860001  28.549999  \n",
      "2025-01-10  31.000000  50.779999  248.210007  28.820000  \n",
      "\n",
      "[1256 rows x 10 columns]\n"
     ]
    }
   ],
   "source": [
    "print ( adj_close_df)"
   ]
  },
  {
   "cell_type": "markdown",
   "metadata": {},
   "source": [
    "# Section 3: Calculate Lognormal Returns"
   ]
  },
  {
   "cell_type": "code",
   "execution_count": 75,
   "metadata": {},
   "outputs": [],
   "source": [
    "# calculate the lognormal returns for each ticker\n",
    "log_returns = np.log ( adj_close_df / adj_close_df.shift(1))"
   ]
  },
  {
   "cell_type": "code",
   "execution_count": 76,
   "metadata": {},
   "outputs": [],
   "source": [
    "# Drop any missing values\n",
    "log_returns = log_returns.dropna()"
   ]
  },
  {
   "cell_type": "markdown",
   "metadata": {},
   "source": [
    "# Section 4: Calculate Covariance Matrix"
   ]
  },
  {
   "cell_type": "markdown",
   "metadata": {},
   "source": [
    " Calculate the covariance matrix using annualized log returns "
   ]
  },
  {
   "cell_type": "code",
   "execution_count": 77,
   "metadata": {},
   "outputs": [
    {
     "name": "stdout",
     "output_type": "stream",
     "text": [
      "           DBC       BCD      FTGC      USCI      SDCI      UTES       PXE  \\\n",
      "DBC   0.040524  0.027793  0.029612  0.032098  0.030839  0.011457  0.056377   \n",
      "BCD   0.027793  0.024510  0.023305  0.025534  0.024105  0.008731  0.036085   \n",
      "FTGC  0.029612  0.023305  0.030159  0.028064  0.026628  0.010557  0.040838   \n",
      "USCI  0.032098  0.025534  0.028064  0.035638  0.033158  0.011411  0.042410   \n",
      "SDCI  0.030839  0.024105  0.026628  0.033158  0.035767  0.010253  0.040634   \n",
      "UTES  0.011457  0.008731  0.010557  0.011411  0.010253  0.052198  0.033832   \n",
      "PXE   0.056377  0.036085  0.040838  0.042410  0.040634  0.033832  0.194574   \n",
      "IAU   0.009942  0.010656  0.010024  0.011533  0.010983  0.007747  0.004424   \n",
      "GLD   0.009911  0.010662  0.010016  0.011521  0.010982  0.007816  0.004134   \n",
      "COM   0.014127  0.011399  0.012319  0.013231  0.012961  0.003443  0.016017   \n",
      "\n",
      "           IAU       GLD       COM  \n",
      "DBC   0.009942  0.009911  0.014127  \n",
      "BCD   0.010656  0.010662  0.011399  \n",
      "FTGC  0.010024  0.010016  0.012319  \n",
      "USCI  0.011533  0.011521  0.013231  \n",
      "SDCI  0.010983  0.010982  0.012961  \n",
      "UTES  0.007747  0.007816  0.003443  \n",
      "PXE   0.004424  0.004134  0.016017  \n",
      "IAU   0.024067  0.024082  0.006984  \n",
      "GLD   0.024082  0.024181  0.006973  \n",
      "COM   0.006984  0.006973  0.009794  \n"
     ]
    }
   ],
   "source": [
    "cov_matrix = log_returns.cov()*252\n",
    "print(cov_matrix)"
   ]
  },
  {
   "cell_type": "markdown",
   "metadata": {},
   "source": [
    "# Section 5: Define Portfolio Performance Metrics\n",
    " Calculate the portfolio standard deviation"
   ]
  },
  {
   "cell_type": "code",
   "execution_count": 78,
   "metadata": {},
   "outputs": [],
   "source": [
    "#calculate the portfolio variance, which is measure of the risk associated with a portfolio of assets \n",
    "#represents the combined volality of the assets in the portfolio, taking into account their individual volatilities and correlations\n",
    "def standard_deviation (weights, cov_matrix):\n",
    "        variance = weights.T @ cov_matrix @ weights\n",
    "        return np.sqrt(variance)"
   ]
  },
  {
   "cell_type": "markdown",
   "metadata": {},
   "source": [
    " Calculate the expected return"
   ]
  },
  {
   "cell_type": "code",
   "execution_count": 79,
   "metadata": {},
   "outputs": [],
   "source": [
    "#expected return are based on historical returns \n",
    "def expected_return (weights, log_returns):\n",
    "    return np.sum(log_returns.mean() * weights) * 252"
   ]
  },
  {
   "cell_type": "markdown",
   "metadata": {},
   "source": [
    " Calculate the Sharpe Raito"
   ]
  },
  {
   "cell_type": "code",
   "execution_count": 80,
   "metadata": {},
   "outputs": [],
   "source": [
    "\n",
    "def sharpe_ratio (weights, log_returns, cov_matrix, risk_free_rate):\n",
    "        return (expected_return(weights, log_returns) - risk_free_rate) / standard_deviation(weights, cov_matrix)"
   ]
  },
  {
   "cell_type": "markdown",
   "metadata": {},
   "source": [
    "# Section 6: Portfolio Optimization"
   ]
  },
  {
   "cell_type": "markdown",
   "metadata": {},
   "source": [
    "Set the risk-free rate from the Fred Website "
   ]
  },
  {
   "cell_type": "code",
   "execution_count": 81,
   "metadata": {},
   "outputs": [],
   "source": [
    "risk_free_rate = 0.02"
   ]
  },
  {
   "cell_type": "code",
   "execution_count": 82,
   "metadata": {},
   "outputs": [
    {
     "name": "stdout",
     "output_type": "stream",
     "text": [
      "0.043899999999999995\n"
     ]
    }
   ],
   "source": [
    "from fredapi import Fred \n",
    "\n",
    "fred = Fred(api_key='d0637da1c78b68a3477429f8b63e9189')\n",
    "ten_year_treasury_rate = fred.get_series_latest_release('GS10') / 100\n",
    "\n",
    "risk_free_rate = ten_year_treasury_rate.iloc[-1]\n",
    "print(risk_free_rate)"
   ]
  },
  {
   "cell_type": "markdown",
   "metadata": {},
   "source": [
    " Define the function to minimize (negative Sharpe Raito)"
   ]
  },
  {
   "cell_type": "code",
   "execution_count": 83,
   "metadata": {},
   "outputs": [],
   "source": [
    "\n",
    "def neg_sharpe_raito(weights, log_returns, cov_matrix, risk_free_rate):\n",
    "    return -(expected_return(weights, log_returns) - risk_free_rate) / standard_deviation(weights, cov_matrix)"
   ]
  },
  {
   "cell_type": "markdown",
   "metadata": {},
   "source": [
    "set the constraints and bounds\n"
   ]
  },
  {
   "cell_type": "code",
   "execution_count": 84,
   "metadata": {},
   "outputs": [],
   "source": [
    "# The constraints is the sum of portfolio = 1)\n",
    "# Bonds are the limits placed on the variables during the optimization process. In this case, the variables are the portfolio weights, and each weight is around 0 to 1\n",
    "constraints = {'type': 'eq', 'fun': lambda weights: np.sum(weights) - 1}\n",
    "bounds = [(0, 0.4) for _ in range(len(tickers))]\n"
   ]
  },
  {
   "cell_type": "markdown",
   "metadata": {},
   "source": [
    "set the intial weights "
   ]
  },
  {
   "cell_type": "code",
   "execution_count": 85,
   "metadata": {},
   "outputs": [
    {
     "name": "stdout",
     "output_type": "stream",
     "text": [
      "[0.1 0.1 0.1 0.1 0.1 0.1 0.1 0.1 0.1 0.1]\n"
     ]
    }
   ],
   "source": [
    "initial_weights = np.array([1/len(tickers)]*len(tickers))\n",
    "print(initial_weights)"
   ]
  },
  {
   "cell_type": "markdown",
   "metadata": {},
   "source": [
    " Optimize the weights to maximize Sharpe Raito"
   ]
  },
  {
   "cell_type": "code",
   "execution_count": 86,
   "metadata": {},
   "outputs": [],
   "source": [
    "optimized_results = minimize(neg_sharpe_raito, \n",
    "                             initial_weights, \n",
    "                             args=(log_returns, cov_matrix, risk_free_rate), \n",
    "                             method='SLSQP', \n",
    "                             constraints=constraints, \n",
    "                             bounds=bounds)"
   ]
  },
  {
   "cell_type": "code",
   "execution_count": 87,
   "metadata": {},
   "outputs": [],
   "source": [
    "optimal_weights = optimized_results.x"
   ]
  },
  {
   "cell_type": "markdown",
   "metadata": {},
   "source": [
    "# Section 7: Analyze the Optimal Portfolio"
   ]
  },
  {
   "cell_type": "markdown",
   "metadata": {},
   "source": [
    "Dispay analytics of the portfolio"
   ]
  },
  {
   "cell_type": "code",
   "execution_count": 88,
   "metadata": {},
   "outputs": [
    {
     "name": "stdout",
     "output_type": "stream",
     "text": [
      "Optimal Weights:\n",
      "DBC: 0.0000\n",
      "BCD: 0.0000\n",
      "FTGC: 0.0000\n",
      "USCI: 0.0000\n",
      "SDCI: 0.2913\n",
      "UTES: 0.1666\n",
      "PXE: 0.0000\n",
      "IAU: 0.2540\n",
      "GLD: 0.0000\n",
      "COM: 0.2881\n",
      "Expected Annual Return: 0.1140\n",
      "Expected Volatility: 0.1168\n",
      "Sharpe Ratio: 0.5997\n"
     ]
    }
   ],
   "source": [
    "print(\"Optimal Weights:\")\n",
    "for ticker, weight in zip(tickers, optimal_weights):\n",
    "    print(f\"{ticker}: {weight:.4f}\")\n",
    "\n",
    "optimal_portfolio_return = expected_return(optimal_weights, log_returns)\n",
    "optimal_portfolio_volatility = standard_deviation(optimal_weights, cov_matrix)\n",
    "optimal_sharpe_ratio = sharpe_ratio(optimal_weights, log_returns, cov_matrix, risk_free_rate)\n",
    "\n",
    "print(f\"Expected Annual Return: {optimal_portfolio_return:.4f}\")\n",
    "print(f\"Expected Volatility: {optimal_portfolio_volatility:.4f}\")\n",
    "print(f\"Sharpe Ratio: {optimal_sharpe_ratio:.4f}\")"
   ]
  },
  {
   "cell_type": "markdown",
   "metadata": {},
   "source": [
    "Display the portfolio in plot"
   ]
  },
  {
   "cell_type": "code",
   "execution_count": 89,
   "metadata": {},
   "outputs": [
    {
     "data": {
      "image/png": "[encoded data removed]",
      "text/plain": [
       "<Figure size 1000x600 with 1 Axes>"
      ]
     },
     "metadata": {},
     "output_type": "display_data"
    }
   ],
   "source": [
    "import matplotlib.pyplot as plt\n",
    "\n",
    "plt.figure(figsize=(10, 6))\n",
    "plt.bar(tickers, optimal_weights)\n",
    "\n",
    "plt.xlabel('Assets')\n",
    "plt.ylabel('Optimal Weights')\n",
    "plt.title('Optimal Portfolio Weights')\n",
    "\n",
    "plt.show()"
   ]
  }
 ],
 "metadata": {
  "kernelspec": {
   "display_name": "Python 3",
   "language": "python",
   "name": "python3"
  },
  "language_info": {
   "codemirror_mode": {
    "name": "ipython",
    "version": 3
   },
   "file_extension": ".py",
   "mimetype": "text/x-python",
   "name": "python",
   "nbconvert_exporter": "python",
   "pygments_lexer": "ipython3",
   "version": "3.13.1"
  }
 },
 "nbformat": 4,
 "nbformat_minor": 2
}
